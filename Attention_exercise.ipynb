{
  "nbformat": 4,
  "nbformat_minor": 0,
  "metadata": {
    "kernelspec": {
      "display_name": "Python 3",
      "language": "python",
      "name": "python3"
    },
    "language_info": {
      "codemirror_mode": {
        "name": "ipython",
        "version": 3
      },
      "file_extension": ".py",
      "mimetype": "text/x-python",
      "name": "python",
      "nbconvert_exporter": "python",
      "pygments_lexer": "ipython3",
      "version": "3.7.5"
    },
    "toc": {
      "base_numbering": 1,
      "nav_menu": {},
      "number_sections": true,
      "sideBar": true,
      "skip_h1_title": false,
      "title_cell": "Table of Contents",
      "title_sidebar": "Contents",
      "toc_cell": false,
      "toc_position": {},
      "toc_section_display": true,
      "toc_window_display": false
    },
    "colab": {
      "name": "Attention_exercise.ipynb",
      "provenance": [],
      "collapsed_sections": [],
      "toc_visible": true
    },
    "accelerator": "GPU"
  },
  "cells": [
    {
      "cell_type": "markdown",
      "metadata": {
        "id": "fu08XcE8MhGr",
        "colab_type": "text"
      },
      "source": [
        "# Week 13 Exercise - Transformers\n",
        "\n",
        "In this notebook, we will explore the creation of a Transformer Network for English to French translation.  Note that **Transformers are resource intensive and hard to train.** You will want to run these notebooks on a machine equipped with a GPU or on [Google Colab](http://colab.research.google.com).\n",
        "\n",
        "To begin, let's import a corpus of paired English and French text.  Additionally, we'll tokenize the words (i.e. create a dictionary for each vocabulary associating every word with an integer index).  There is no need to modify this cell, but have a look at what is contained in fr_to_ix (for example) and in enlines.  "
      ]
    },
    {
      "cell_type": "code",
      "metadata": {
        "id": "lOTAeFFxMhGs",
        "colab_type": "code",
        "colab": {}
      },
      "source": [
        "import re\n",
        "import numpy as np\n",
        "import torch\n",
        "import torch.nn as nn\n",
        "import torch.nn.functional as F\n",
        "import torch.optim as optim\n",
        "import math\n",
        "from torch.utils.data import Dataset, DataLoader\n",
        "from torch.autograd import Variable\n",
        "import numpy as np\n",
        "import matplotlib.pyplot as plt\n",
        "\n",
        "if torch.cuda.is_available():  \n",
        "    device = \"cuda:0\" \n",
        "else:  \n",
        "    device = \"cpu\" \n",
        "\n",
        "with open('./french.txt', encoding=\"utf-8\") as file:\n",
        "    frvocab = file.read().lower()\n",
        "    frvocab = ''.join([i if ord(i) < 128 else ' ' for i in frvocab])\n",
        "    frlines = frvocab.split('\\n')\n",
        "frlines = [re.sub(r'[^\\w\\s\\']','',i).split() for i in frlines]\n",
        "frvocab = set(re.sub(r'[^\\w\\s\\']','',frvocab).replace('\\n',' ').split(' '))\n",
        "\n",
        "with open('./english.txt', encoding=\"utf-8\") as file:\n",
        "    envocab = file.read().lower()\n",
        "    envocab = ''.join([i if ord(i) < 128 else '' for i in envocab])\n",
        "    enlines = envocab.split('\\n')\n",
        "enlines = [re.sub(r'[^\\w\\s]','',i).split() for i in enlines]\n",
        "envocab = set(re.sub(r'[^\\w\\s]','',envocab).replace('\\n',' ').strip().split(' '))\n",
        "envocab.add('<pad>')\n",
        "envocab.add('<start>')\n",
        "envocab.add('<eos>')\n",
        "frvocab.add('<pad>')\n",
        "frvocab.add('<start>')\n",
        "frvocab.add('<eos>')\n",
        "fr_to_ix = {word: i for i, word in enumerate(frvocab)}\n",
        "en_to_ix = {word: i for i, word in enumerate(envocab)}\n",
        "ix_to_fr = {fr_to_ix[word]:word for word in frvocab}\n",
        "ix_to_en = {en_to_ix[word]:word for word in envocab}\n",
        "enmax = 0\n",
        "frmax = 16\n",
        "\n",
        "for i,w in enumerate(enlines):\n",
        "    temp = len(w)\n",
        "    if temp > enmax:\n",
        "        enmax = temp\n",
        "\n",
        "for i,w in enumerate(frlines):\n",
        "    temp = len(w)\n",
        "    if temp > frmax:\n",
        "        frmax = temp"
      ],
      "execution_count": 0,
      "outputs": []
    },
    {
      "cell_type": "markdown",
      "metadata": {
        "id": "wyXh6rbpMhG3",
        "colab_type": "text"
      },
      "source": [
        "Next we'll create a handful of helper functions that do things like\n",
        " - Tokenize an english string, run it through the transformer producing predictions, then convert back to a french string\n",
        " - Compare predicted and target output\n",
        " - Mask a string\n",
        " - Load paired english/french sequences"
      ]
    },
    {
      "cell_type": "code",
      "metadata": {
        "id": "iGC3fMYpMhG4",
        "colab_type": "code",
        "colab": {}
      },
      "source": [
        "def translate(sentence):\n",
        "    # Read in an english string\n",
        "    line = re.sub(r'[^\\w\\s]','',sentence).split()\n",
        "    # tokenize/pad for consistent sequence length\n",
        "    line = F.pad(torch.tensor([en_to_ix[w.lower()] for w in line]),(0,enmax-len(line)),value = en_to_ix['<pad>']).unsqueeze(0).to(device)\n",
        "    # Create an array to hold the French sentence\n",
        "    target = torch.Tensor(1,frmax-1)\n",
        "    target = target.new_full((1,frmax-1),fr_to_ix['<pad>']).long().to(device)\n",
        "    # Start sentence with a <start> character\n",
        "    target[0,0] = fr_to_ix['<start>']\n",
        "    \n",
        "    src,trg = mask(line,target)\n",
        "    encoding = model.encode(line,src)\n",
        "    K,V = model.create_dec_KV(encoding)\n",
        "    for i in range(1,frmax-1):\n",
        "        test2 = model.decode(target,K,V,src,trg)\n",
        "        lastout = test2[0,i-1].argmax()\n",
        "        if lastout.item() == fr_to_ix['<eos>']:\n",
        "            break\n",
        "        target[0,i] = lastout\n",
        "        src,trg = mask(line,target)\n",
        "    translation = test2.argmax(2).squeeze(0)\n",
        "    translation_string = ''\n",
        "    for w in translation:\n",
        "        if ix_to_fr[w.item()] == '<eos>':\n",
        "            break\n",
        "        translation_string += ix_to_fr[w.item()] + ' '\n",
        "    return translation_string.strip()\n",
        "\n",
        "def compareoutput(preds,targetlist,loc=None):\n",
        "    # Compare model predictions with true translation\n",
        "    if loc is None:\n",
        "        loc = np.random.randint(len(preds))\n",
        "    predstr = ''\n",
        "    labelstr = ''\n",
        "    for i in range(len(preds[loc][0])):\n",
        "        if ix_to_fr[targetlist[loc][i+1].item()] == '<eos>':\n",
        "            break\n",
        "        predstr += ' '+ ix_to_fr[preds[loc][0][i].item()]\n",
        "        labelstr += ' ' + ix_to_fr[targetlist[loc][i+1].item()]\n",
        "    print(\"\\tOutput:\", predstr)\n",
        "    print(\"\\tTarget:\",labelstr)\n",
        "    \n",
        "class PositionalEncoder(nn.Module):\n",
        "    # Create a positional encoding generator\n",
        "    def __init__(self, d_model, max_seq_len = 58):\n",
        "        super().__init__()\n",
        "        self.d_model = d_model\n",
        "        \n",
        "        # create constant 'pe' matrix with values dependant on \n",
        "        # pos and i\n",
        "        pe = torch.zeros(max_seq_len, d_model)\n",
        "        for pos in range(max_seq_len):\n",
        "            for i in range(0, d_model, 2):\n",
        "                pe[pos, i] = \\\n",
        "                math.sin(pos / (10000 ** ((2 * i)/d_model)))\n",
        "            for i in range(1,d_model,2):\n",
        "                pe[pos, i] = \\\n",
        "                math.cos(pos / (10000 ** ((2 * i)/d_model)))\n",
        "                \n",
        "        pe = pe\n",
        "        self.register_buffer('pe', pe)\n",
        " \n",
        "    \n",
        "    def forward(self, x):\n",
        "        # make embeddings relatively larger\n",
        "        x = x * math.sqrt(self.d_model)\n",
        "        #add constant to embedding\n",
        "        seq_len = x.size(1)\n",
        "        x = x + Variable(self.pe[:seq_len], \\\n",
        "        requires_grad=False).to(device)\n",
        "        return x\n",
        "\n",
        "def mask(input_seq,target_seq):\n",
        "    input_msk = (input_seq != en_to_ix['<pad>']).unsqueeze(1)\n",
        "    target_msk = (target_seq != fr_to_ix['<pad>']).unsqueeze(1)\n",
        "    size = target_seq.size(1) # get seq_len for matrix\n",
        "    nopeak_mask = np.triu(np.ones((1, size, size)),k=1)\n",
        "    nopeak_mask = Variable(torch.from_numpy(nopeak_mask).to(device) == 0)\n",
        "    target_msk = target_msk & nopeak_mask\n",
        "    return input_msk,target_msk\n",
        "\n",
        "class custdata(Dataset):\n",
        "    # Create a custom dataset object to serve up paired english and french lines\n",
        "    def __init__(self,enlines,frlines):\n",
        "        self.data_len = len(enlines) \n",
        "        self.data = [F.pad(torch.tensor([en_to_ix[w] for w in line]),(0,enmax-len(line)),value = en_to_ix['<pad>']).to(device) for line in enlines]\n",
        "        self.labels = []\n",
        "        for line in frlines:\n",
        "            line = ['<start>',*line,'<eos>']\n",
        "            self.labels.append(F.pad(torch.tensor([fr_to_ix[w] for w in line]),(0,frmax-len(line)),value = fr_to_ix['<pad>']).to(device))\n",
        "    \n",
        "    def __getitem__(self, i):\n",
        "        return self.data[i],self.labels[i]\n",
        "\n",
        "    def __len__(self):\n",
        "        return self.data_len"
      ],
      "execution_count": 0,
      "outputs": []
    },
    {
      "cell_type": "markdown",
      "metadata": {
        "id": "fEyqvSOrMhG-",
        "colab_type": "text"
      },
      "source": [
        "# Attention\n",
        "The first task is to code a self-attention mechanism, which corresponds to implementing Eq. 1 in Vaswani.\n",
        "#### http://jalammar.github.io/illustrated-transformer/ is a great reference for most of the programming in this notebook"
      ]
    },
    {
      "cell_type": "code",
      "metadata": {
        "id": "e_yiP_URMhG_",
        "colab_type": "code",
        "colab": {}
      },
      "source": [
        "class self_attention(nn.Module):\n",
        "    def __init__(self,dim,enc_dim,dropout = .1):\n",
        "        super().__init__()\n",
        "        self.wq = nn.Linear(dim, enc_dim) #### TODO#### WEIGHTS FOR Q, INPUT DIM = DIM, OUTPUT DIM = ENC_DIM\n",
        "        self.wk = nn.Linear(dim, enc_dim) #### TODO#### WEIGHTS FOR K, INPUT DIM = DIM, OUTPUT DIM = ENC_DIM\n",
        "        self.wv = nn.Linear(dim, enc_dim) #### TODO#### WEIGHTS FOR V, INPUT DIM = DIM, OUTPUT DIM = ENC_DIM\n",
        "        self.dropout = nn.Dropout(dropout)\n",
        "        \n",
        "        self.scaler = np.sqrt(enc_dim)\n",
        "    \n",
        "    def QKV(self,x):\n",
        "        Q = self.wq(x)  #### TODO#### CALCULATE Q\n",
        "        K = self.wk(x)  #### TODO#### CALCULATE K\n",
        "        V = self.wv(x)  #### TODO#### CALCULATE V\n",
        "        return Q,K,V\n",
        "    \n",
        "    def score(self,Q,K,V,mask):\n",
        "        # scores are the stuff that goes inside the softmax\n",
        "        scores = Q @ K.T.permute(2,0,1)/self.scaler ### TODO ### CALCULATE THE SCORES. !!!DONT TOUCH THE PERMUTE!!!\n",
        "        if mask is not None:\n",
        "            scores = scores.masked_fill(mask == 0, -1e9)\n",
        "        scores = self.dropout(F.softmax(scores,-1)) \n",
        "        return scores @ V ### TODO ### FINISH CALCULATING SELF ATTENTION\n",
        "    \n",
        "    def forward(self,x,mask=None):\n",
        "        Q,K,V = self.QKV(x)\n",
        "        return self.score(Q,K,V,mask)\n",
        "   "
      ],
      "execution_count": 0,
      "outputs": []
    },
    {
      "cell_type": "markdown",
      "metadata": {
        "id": "VKsfsL6kMhHF",
        "colab_type": "text"
      },
      "source": [
        "Next, we need to produce the \"special\" attention mechanism that takes keys and values from the encoder, but queries from the decoder.  This is very similar to the self-attention mechanism, except that there should be two inputs.  "
      ]
    },
    {
      "cell_type": "code",
      "metadata": {
        "id": "bJ8gxUI1MhHG",
        "colab_type": "code",
        "colab": {}
      },
      "source": [
        "class encdec_attention(nn.Module):\n",
        "    def __init__(self,dim,dropout = .1):\n",
        "        super().__init__()\n",
        "        self.wq = nn.Linear(dim, dim) #### TODO #### SAME AS ABOVE\n",
        "        self.wk = nn.Linear(dim, dim) #### TODO #### SAME AS ABOVE\n",
        "        self.wv = nn.Linear(dim, dim) #### TODO #### SAME AS ABOVE\n",
        "        self.scaler = np.sqrt(dim)\n",
        "        self.dropout = nn.Dropout(dropout)\n",
        "        \n",
        "    def Q(self,x):\n",
        "        return self.wq(x)\n",
        "    \n",
        "    def score(self,Q,K,V,mask):\n",
        "        scores = Q @ K.T.permute(2,0,1)/self.scaler #### TODO #### SAME AS ABOVE\n",
        "        if mask is not None:\n",
        "            scores = scores.masked_fill(mask == 0, -1e9)\n",
        "        scores = self.dropout(F.softmax(scores,-1)) \n",
        "        return scores @ V  #### TODO #### SAME AS ABOVE\n",
        "    \n",
        "    def forward(self,x,K,V,mask):\n",
        "        # DB Note: I'm not sure that this signature is right.  Seems like we should be taking x from the\n",
        "        # decoder, as well as another argument (call it y?) from the encoder, then producing K,V,Q internally,\n",
        "        # just like in the self-attention scheme.  Otherwise, how are wk and wv being used here?  it looks like \n",
        "        # these parameters have been shifted over to the Transformer module's create_dec_KV method.\n",
        "        Q = self.Q(x)\n",
        "        out = self.score(Q,K,V,mask)\n",
        "        return out"
      ],
      "execution_count": 0,
      "outputs": []
    },
    {
      "cell_type": "markdown",
      "metadata": {
        "id": "0wte4ML9MhHM",
        "colab_type": "text"
      },
      "source": [
        "# Encoder and Decoder\n",
        "With the attention mechanisms coded, now we need to create encoder and decoder models. These correspond to the things inside the boxes in Figure 1 of Vaswani.  \n",
        "#### Fill in the forward passes of the encoder and decoder"
      ]
    },
    {
      "cell_type": "code",
      "metadata": {
        "id": "D_xVVAVmMhHO",
        "colab_type": "code",
        "colab": {}
      },
      "source": [
        "class encoder(nn.Module):\n",
        "    def __init__(self,dim,enc_dim,vocab_size,dropout=.1):\n",
        "        super().__init__()\n",
        "        self.dim = dim\n",
        "        self.enc_dim = enc_dim\n",
        "        self.residual = nn.Linear(dim,enc_dim)\n",
        "        \n",
        "        self.attention = self_attention(dim,enc_dim,dropout)\n",
        "        self.norm1 = nn.LayerNorm(enc_dim)\n",
        "        self.linear = nn.Sequential(\n",
        "            nn.Linear(enc_dim,enc_dim),\n",
        "            nn.ReLU()\n",
        "        )\n",
        "        self.norm2 = nn.LayerNorm(enc_dim)\n",
        "    \n",
        "    def forward(self,x,mask):  #### TODO #### SET UP FORWARD PASS OF ENCODER\n",
        "        residual = x\n",
        "        x = self.attention(x, mask)\n",
        "        if self.dim != self.enc_dim: ### DONT TOUCH, THIS IS TO HELP WITH THE RESIDUAL CONNECTION ###\n",
        "            x = self.residual(x)\n",
        "        x += residual\n",
        "        x = self.norm1(x)\n",
        "        residual = x\n",
        "        x = self.linear(x)\n",
        "        x += residual\n",
        "        return self.norm2(x)\n",
        "     \n",
        "        \n",
        "class decoder(nn.Module):\n",
        "    def __init__(self,dim,input_size,vocab_size,dropout=.1):\n",
        "        super().__init__()\n",
        "        self.attention = self_attention(input_size,dim,dropout)\n",
        "        self.norm1 = nn.LayerNorm(dim)\n",
        "        self.EDattention = encdec_attention(dim,dropout)\n",
        "        self.norm2 = nn.LayerNorm(dim)\n",
        "        self.linear = nn.Sequential(\n",
        "            nn.Linear(dim,dim),\n",
        "            nn.ReLU()\n",
        "        )\n",
        "        self.norm3 = nn.LayerNorm(dim)\n",
        "    \n",
        "    def forward(self,x,k,v,enc_mask,dec_mask):#### TODO #### SET UP FORWARD PASS OF DECODER\n",
        "        residual = x\n",
        "        x = self.attention(x, dec_mask)\n",
        "        x += residual\n",
        "        x = self.norm1(x)\n",
        "        residual = x\n",
        "        x = self.EDattention(x, k, v, enc_mask)\n",
        "        x += residual\n",
        "        x = self.norm2(x)\n",
        "        residual = x\n",
        "        x = self.linear(x)\n",
        "        x += residual\n",
        "        return self.norm3(x)\n",
        "    "
      ],
      "execution_count": 0,
      "outputs": []
    },
    {
      "cell_type": "markdown",
      "metadata": {
        "id": "TkDYmiYEMhHW",
        "colab_type": "text"
      },
      "source": [
        "# Transformer\n",
        "\n",
        "Build the transformer itself by hooking together encoders and decoders.  Note the word embedding layers that we are going to learn.  \n",
        "\n",
        "#### Add encoders and decoders to transformer"
      ]
    },
    {
      "cell_type": "code",
      "metadata": {
        "id": "VTJWbpz-MhHX",
        "colab_type": "code",
        "colab": {}
      },
      "source": [
        "class transformer(nn.Module):\n",
        "    def __init__(self,dim,encoder_dim,enc_vocab_size,dec_vocab_size,input_size):\n",
        "        super().__init__()\n",
        "        self.embedding1 = nn.Embedding(enc_vocab_size,dim)\n",
        "        self.embedding2 = nn.Embedding(dec_vocab_size,encoder_dim)\n",
        "        \n",
        "        self.pe1 = PositionalEncoder(dim,enmax)\n",
        "        self.pe2 = PositionalEncoder(encoder_dim,frmax)\n",
        "        self.encoders = []\n",
        "    \n",
        "        for _ in range(2):\n",
        "            self.encoders.append(encoder(dim, encoder_dim, enc_vocab_size)) #### TODO #### ADD DESIRED # OF ENCODERS TO SELF.ENCODERS\n",
        "        \n",
        "        \n",
        "        self.encoders = nn.ModuleList(self.encoders)\n",
        "        \n",
        "        self.decoders = []\n",
        "        \n",
        "        for _ in range(2):\n",
        "            self.decoders.append(decoder(encoder_dim, encoder_dim, dec_vocab_size)) #### TODO #### ADD DESIRED # OF DECODERS TO SELF.DECODERS\n",
        "\n",
        "       \n",
        "        self.decoders = nn.ModuleList(self.decoders)\n",
        "        \n",
        "        self.final = nn.Sequential(\n",
        "            nn.Linear(encoder_dim,dec_vocab_size),\n",
        "            nn.LogSoftmax(2)\n",
        "        )\n",
        "        \n",
        "        self.k = nn.Linear(encoder_dim,encoder_dim)\n",
        "        self.v = nn.Linear(encoder_dim,encoder_dim)\n",
        "    def create_dec_KV(self,z):\n",
        "        K = self.k(z)\n",
        "        V = self.v(z)\n",
        "        return K,V\n",
        "    \n",
        "    def encode(self,x,src):\n",
        "        x = self.embedding1(x)\n",
        "        x = self.pe1(x)\n",
        "        for layer in self.encoders:\n",
        "            x = layer(x,src)\n",
        "        return x\n",
        "    \n",
        "    def decode(self,y,K,V,src,trg):\n",
        "        y = self.embedding2(y)\n",
        "        y = self.pe2(y)\n",
        "        for layer in self.decoders:\n",
        "            y = layer(y,K,V,src,trg)\n",
        "        return self.final(y)\n",
        "    \n",
        "    def forward(self,x,y,src,trg):\n",
        "        \n",
        "        x = self.encode(x,src)\n",
        "        K,V = self.create_dec_KV(x)\n",
        "        y = self.decode(y,K,V,src,trg)\n",
        "        return y"
      ],
      "execution_count": 0,
      "outputs": []
    },
    {
      "cell_type": "markdown",
      "metadata": {
        "id": "SxVT4o75MhHe",
        "colab_type": "text"
      },
      "source": [
        "# Train the network.\n",
        "\n",
        "##### This will be slow to train and require a lot of resources. You can reduce the batch_size to lower the vram requirement, you can reduce \n",
        "##### the run time by lowering number_of_lines"
      ]
    },
    {
      "cell_type": "code",
      "metadata": {
        "id": "oHEFNhT6MhHg",
        "colab_type": "code",
        "colab": {}
      },
      "source": [
        "model = transformer(enmax,enmax,len(envocab),len(frvocab),frmax)\n",
        "model = model.to(device)"
      ],
      "execution_count": 0,
      "outputs": []
    },
    {
      "cell_type": "code",
      "metadata": {
        "id": "zXvGRNB4MhHm",
        "colab_type": "code",
        "colab": {}
      },
      "source": [
        "optimizer = optim.Adam(model.parameters(), lr=0.01,weight_decay=.00001)\n",
        "scheduler = torch.optim.lr_scheduler.ReduceLROnPlateau(optimizer,factor=.1,patience=10,threshold=1,min_lr=.0001)\n",
        "criterion = nn.NLLLoss()"
      ],
      "execution_count": 0,
      "outputs": []
    },
    {
      "cell_type": "code",
      "metadata": {
        "id": "ygNOoLTrMhHw",
        "colab_type": "code",
        "colab": {}
      },
      "source": [
        "BATCH_SIZE = 128\n",
        "NUMBER_OF_LINES = 20000\n",
        "\n",
        "train = custdata(enlines[:NUMBER_OF_LINES],frlines[:NUMBER_OF_LINES])\n",
        "trainloader = torch.utils.data.DataLoader(dataset=train, batch_size=BATCH_SIZE, shuffle=True)\n",
        "val = custdata(enlines[NUMBER_OF_LINES:NUMBER_OF_LINES+1000],frlines[NUMBER_OF_LINES:NUMBER_OF_LINES+1000])\n",
        "valloader = torch.utils.data.DataLoader(dataset=val, batch_size=1, shuffle=True, drop_last=False)\n",
        "test = custdata(enlines[NUMBER_OF_LINES+1000:NUMBER_OF_LINES+2000],frlines[NUMBER_OF_LINES+1000:NUMBER_OF_LINES+2000])\n",
        "testloader = torch.utils.data.DataLoader(dataset=test, batch_size=1, shuffle=False, drop_last=False)"
      ],
      "execution_count": 0,
      "outputs": []
    },
    {
      "cell_type": "code",
      "metadata": {
        "id": "q9N5tYerMhH7",
        "colab_type": "code",
        "colab": {
          "base_uri": "https://localhost:8080/",
          "height": 1000
        },
        "outputId": "ad9015c1-d6d7-43f0-e3c4-c87c404995fa"
      },
      "source": [
        "for i in range(50):\n",
        "    model.train()\n",
        "    total_loss = 0\n",
        "    for j,(context, target) in enumerate(trainloader):\n",
        "        trg_input = target[:,:-1]\n",
        "        outmask = target[:,1:]!= fr_to_ix['<pad>']\n",
        "        targets = target[:,1:].contiguous().view(-1)\n",
        "        src,trg = mask(context,trg_input)\n",
        "        output = model(context,trg_input,src,trg)\n",
        "        optimizer.zero_grad()\n",
        "        loss = criterion(output.view(output.shape[0]*output.shape[1],-1),targets)\n",
        "        loss.backward()\n",
        "        total_loss += loss.item()\n",
        "        optimizer.step()\n",
        "    scheduler.step(total_loss)\n",
        "    print('Epoch:', i+1,' loss:', total_loss)\n",
        "    model.eval()\n",
        "    scores = []\n",
        "    preds = []\n",
        "    targetlist = []\n",
        "    for j,(context, target) in enumerate(valloader):\n",
        "            trg_input = target[:,:-1]\n",
        "            targets = target.contiguous().view(-1)\n",
        "            targetlist.append(targets)\n",
        "            src,trg = mask(context,trg_input)\n",
        "            output = model(context,trg_input,src,trg)\n",
        "            pred = F.softmax(output,2).argmax(2)\n",
        "            preds.append(pred)\n",
        "            break\n",
        "    compareoutput(preds,targetlist,loc=0)"
      ],
      "execution_count": 30,
      "outputs": [
        {
          "output_type": "stream",
          "text": [
            "Epoch: 1  loss: 138.48340794444084\n",
            "\tOutput:  je es <eos> <eos>\n",
            "\tTarget:  tu te sens bien\n",
            "Epoch: 2  loss: 58.56694960594177\n",
            "\tOutput:  qui a <eos> <eos> voiture\n",
            "\tTarget:  qui a fait cette tarte\n",
            "Epoch: 3  loss: 45.46398398280144\n",
            "\tOutput:  tout le monde a cie\n",
            "\tTarget:  tout le monde t'appr cie\n",
            "Epoch: 4  loss: 36.215969547629356\n",
            "\tOutput:  j'adore livre n'a <eos> de\n",
            "\tTarget:  un enfant a besoin d'amour\n",
            "Epoch: 5  loss: 29.667451918125153\n",
            "\tOutput:  faites astu une animal\n",
            "\tTarget:  en avezvous un duplicata\n",
            "Epoch: 6  loss: 25.709640234708786\n",
            "\tOutput:  vous tes trop bruyante\n",
            "\tTarget:  vous tes trop maigrichons\n",
            "Epoch: 7  loss: 23.428112983703613\n",
            "\tOutput:  pourquoi n'est va de <eos>\n",
            "\tTarget:  pourquoi ne pas simplement rester\n",
            "Epoch: 8  loss: 21.884558267891407\n",
            "\tOutput:  appelle <eos> portes\n",
            "\tTarget:  rappelez vos chiens\n",
            "Epoch: 9  loss: 20.800335258245468\n",
            "\tOutput:  tesvous br g s\n",
            "\tTarget:  estu v g tarien\n",
            "Epoch: 10  loss: 19.990015506744385\n",
            "\tOutput:  tu es fort s amusant\n",
            "\tTarget:  tu es tr s marrante\n",
            "Epoch: 11  loss: 19.184503331780434\n",
            "\tOutput:  qui est au lit\n",
            "\tTarget:  qui est ce lit\n",
            "Epoch: 12  loss: 13.318163491785526\n",
            "\tOutput:  v a v <eos>\n",
            "\tTarget:  endosse ce ch que\n",
            "Epoch: 13  loss: 10.935527570545673\n",
            "\tOutput:  essaie nouveau de\n",
            "\tTarget:  allez essaie encore\n",
            "Epoch: 14  loss: 9.937721524387598\n",
            "\tOutput:  vous es d\n",
            "\tTarget:  tu es surmen\n",
            "Epoch: 15  loss: 9.277500312775373\n",
            "\tOutput:  tu tes libre <eos> aller\n",
            "\tTarget:  vous tes libre d'y aller\n",
            "Epoch: 16  loss: 8.845592446625233\n",
            "\tOutput:  tesvous catholique\n",
            "\tTarget:  estu productive\n",
            "Epoch: 17  loss: 8.471420999616385\n",
            "\tOutput:  ne fais quiconque pas\n",
            "\tTarget:  ne te fie personne\n",
            "Epoch: 18  loss: 8.145849578082561\n",
            "\tOutput:  tu avez l'air de\n",
            "\tTarget:  vous avez l'air resplendissantes\n",
            "Epoch: 19  loss: 7.882048912346363\n",
            "\tOutput:  vous avez fait ton r\n",
            "\tTarget:  vous avez fait votre part\n",
            "Epoch: 20  loss: 7.706877611577511\n",
            "\tOutput:  vous tes tr s timide\n",
            "\tTarget:  vous tes tr s timide\n",
            "Epoch: 21  loss: 7.538042761385441\n",
            "\tOutput:  ne fut pas j' t\n",
            "\tTarget:  ne jetez pas de pierres\n",
            "Epoch: 22  loss: 7.342203639447689\n",
            "\tOutput:  vous es d\n",
            "\tTarget:  tu es surmen\n",
            "Epoch: 23  loss: 6.449140854179859\n",
            "\tOutput:  aimestu que tu aimes les\n",
            "\tTarget:  estce que tu aimes moscou\n",
            "Epoch: 24  loss: 6.323659770190716\n",
            "\tOutput:  avezvous astu une copie\n",
            "\tTarget:  en avezvous une copie\n",
            "Epoch: 25  loss: 6.211436957120895\n",
            "\tOutput:  vous es le plus\n",
            "\tTarget:  tu es la doyenne\n",
            "Epoch: 26  loss: 6.230649124830961\n",
            "\tOutput:  vous ne pouvez pas arr notre d faite\n",
            "\tTarget:  vous ne pouvez pas admettre votre d faite\n",
            "Epoch: 27  loss: 6.213777665048838\n",
            "\tOutput:  qui est la personne\n",
            "\tTarget:  qui est cette personne\n",
            "Epoch: 28  loss: 6.147438123822212\n",
            "\tOutput:  en avezvous assez\n",
            "\tTarget:  en avezvous assez\n",
            "Epoch: 29  loss: 6.0999782755970955\n",
            "\tOutput:  vous ne pouvez pas <eos> faire\n",
            "\tTarget:  vous ne pouvez pas le manquer\n",
            "Epoch: 30  loss: 6.128920000046492\n",
            "\tOutput:  il peux mieux de venir\n",
            "\tTarget:  tu ferais mieux de venir\n",
            "Epoch: 31  loss: 6.062776416540146\n",
            "\tOutput:  tu astu fini t <eos>\n",
            "\tTarget:  en avezvous bient t termin\n",
            "Epoch: 32  loss: 6.018588397651911\n",
            "\tOutput:  ton livre est ici\n",
            "\tTarget:  ton livre est ici\n",
            "Epoch: 33  loss: 6.026545863598585\n",
            "\tOutput:  ne le pas le chien\n",
            "\tTarget:  ne nourris pas le chien\n",
            "Epoch: 34  loss: 6.000821793451905\n",
            "\tOutput:  j'aimerais aime le <eos> le monde\n",
            "\tTarget:  vous aimez bien tout le monde\n",
            "Epoch: 35  loss: 5.970712458714843\n",
            "\tOutput:  avezvous avez aije f\n",
            "\tTarget:  vous prenez la visa\n",
            "Epoch: 36  loss: 5.943024851381779\n",
            "\tOutput:  ne faites appr personne\n",
            "\tTarget:  ne vous fiez quiconque\n",
            "Epoch: 37  loss: 5.9201370272785425\n",
            "\tOutput:  aimestu l' cole\n",
            "\tTarget:  aimestu l' cole\n",
            "Epoch: 38  loss: 5.866560077294707\n",
            "\tOutput:  pourquoi astu fait\n",
            "\tTarget:  pourquoi l'avezvous fait\n",
            "Epoch: 39  loss: 5.833182640373707\n",
            "\tOutput:  vous tes tes <eos>\n",
            "\tTarget:  vous vous exprimez bien\n",
            "Epoch: 40  loss: 5.854692164808512\n",
            "\tOutput:  pourquoi sontils l\n",
            "\tTarget:  pourquoi sontils ici\n",
            "Epoch: 41  loss: 5.8233438935130835\n",
            "\tOutput:  tesvous catholiques\n",
            "\tTarget:  tesvous courageuses\n",
            "Epoch: 42  loss: 5.8179757706820965\n",
            "\tOutput:  je faits perdu la partie\n",
            "\tTarget:  tu as perdu la partie\n",
            "Epoch: 43  loss: 5.768715085461736\n",
            "\tOutput:  tom aime mary\n",
            "\tTarget:  tom aimetil mary\n",
            "Epoch: 44  loss: 5.792667334899306\n",
            "\tOutput:  vous tes fort s courageux\n",
            "\tTarget:  vous tes tr s courageux\n",
            "Epoch: 45  loss: 5.712847234681249\n",
            "\tOutput:  tesvous tesvous s r\n",
            "\tTarget:  en tesvous s re\n",
            "Epoch: 46  loss: 5.7236022390425205\n",
            "\tOutput:  vous du du\n",
            "\tTarget:  payerastu en liquide\n",
            "Epoch: 47  loss: 5.677805442363024\n",
            "\tOutput:  aimestu que tu aimes les magasin\n",
            "\tTarget:  estce que tu aimes le saumon\n",
            "Epoch: 48  loss: 5.664185099303722\n",
            "\tOutput:  proc terai plait des <eos>\n",
            "\tTarget:  ach te bas vends haut\n",
            "Epoch: 49  loss: 5.5991493333131075\n",
            "\tOutput:  pourquoi monde\n",
            "\tTarget:  pourquoi riraisje\n",
            "Epoch: 50  loss: 5.569287244230509\n",
            "\tOutput:  a dans retard\n",
            "\tTarget:  tesvous en difficult\n"
          ],
          "name": "stdout"
        }
      ]
    },
    {
      "cell_type": "markdown",
      "metadata": {
        "id": "n_Eaj1lEMhIB",
        "colab_type": "text"
      },
      "source": [
        "# Test your translator\n",
        "\n",
        "##### Unless you speak french you're going have to check it with google translate https://translate.google.com/\n",
        "##### I found it started doing alright once the loss got below 10 but this might take a while"
      ]
    },
    {
      "cell_type": "code",
      "metadata": {
        "id": "JGZrs13eMhIC",
        "colab_type": "code",
        "colab": {
          "base_uri": "https://localhost:8080/",
          "height": 34
        },
        "outputId": "35b4c686-5fd8-438d-9eb6-c86b95509bff"
      },
      "source": [
        "sentence = 'how are you'\n",
        "translate(sentence)"
      ],
      "execution_count": 31,
      "outputs": [
        {
          "output_type": "execute_result",
          "data": {
            "text/plain": [
              "'comment vastu'"
            ]
          },
          "metadata": {
            "tags": []
          },
          "execution_count": 31
        }
      ]
    },
    {
      "cell_type": "markdown",
      "metadata": {
        "id": "ue-293KUMhII",
        "colab_type": "text"
      },
      "source": [
        "#### Test it on testing data"
      ]
    },
    {
      "cell_type": "code",
      "metadata": {
        "id": "xEtYT0AVMhIJ",
        "colab_type": "code",
        "colab": {
          "base_uri": "https://localhost:8080/",
          "height": 282
        },
        "outputId": "4cb62fda-dd4b-4f28-8f4b-da76aceda546"
      },
      "source": [
        "model.eval()\n",
        "scores = []\n",
        "preds = []\n",
        "targetlist = []\n",
        "with torch.no_grad():\n",
        "  for j,(context, target) in enumerate(testloader):\n",
        "          trg_input = target[:,:-1]\n",
        "          targets = target[:,1:].contiguous().view(-1)\n",
        "          targetlist.append(targets)\n",
        "          src,trg = mask(context,trg_input)\n",
        "          output = model(context,trg_input,src,trg)\n",
        "          pred = F.softmax(output,2).argmax(2)\n",
        "          preds.append(pred)\n",
        "          correct = sum(pred[0][targets!=fr_to_ix['<pad>']]==targets[targets!=fr_to_ix['<pad>']]).item()/len(targets[targets!=fr_to_ix['<pad>']])\n",
        "          scores.append(correct)\n",
        "plt.plot(scores)\n",
        "print('Average # of words correct',np.mean(scores))"
      ],
      "execution_count": 37,
      "outputs": [
        {
          "output_type": "stream",
          "text": [
            "Average # of words correct 0.6180747835497835\n"
          ],
          "name": "stdout"
        },
        {
          "output_type": "display_data",
          "data": {
            "image/png": "[encoded data removed]",
            "text/plain": [
              "<Figure size 432x288 with 1 Axes>"
            ]
          },
          "metadata": {
            "tags": [],
            "needs_background": "light"
          }
        }
      ]
    },
    {
      "cell_type": "markdown",
      "metadata": {
        "id": "aYEmBCHIMhIP",
        "colab_type": "text"
      },
      "source": [
        "# MULTI-HEAD ATTENTION (Optional)"
      ]
    },
    {
      "cell_type": "code",
      "metadata": {
        "id": "Z2ZPAbIfMhIQ",
        "colab_type": "code",
        "colab": {}
      },
      "source": [
        "class multi_attention(nn.Module):\n",
        "    def __init__(self,dim,encoder_dim,dropout = .1):\n",
        "        super().__init__()\n",
        "        \n",
        "        heads = []\n",
        "        for i in range(???): ### TODO ### CHOOSE THE # OF HEADS YOU WANT\n",
        "            heads.append(???) ### TODO ### ADD SELF_ATTENTION LAYERS TO HEADS\n",
        "        \n",
        "        self.heads = nn.ModuleList(heads)\n",
        "        \n",
        "        self.linear = nn.Linear(???,encoder_dim) ### TODO ###\n",
        "    \n",
        "    \n",
        "    def forward(self,x,mask=None):\n",
        "        headoutputs = [layer(x,mask) for layer in self.heads]\n",
        "        headoutputs = torch.cat(headoutputs,dim=2)\n",
        "        return self.linear(headoutputs)\n",
        "    \n",
        "class encoder(nn.Module):\n",
        "    def __init__(self,dim,enc_dim,vocab_size,dropout=.1):\n",
        "        super().__init__()\n",
        "        self.dim = dim\n",
        "        self.enc_dim = enc_dim\n",
        "        self.attention = multi_attention(dim,enc_dim,dropout)\n",
        "        self.norm1 = nn.LayerNorm(enc_dim)\n",
        "        self.linear = nn.Sequential(\n",
        "            nn.Linear(enc_dim,enc_dim),\n",
        "            nn.ReLU()\n",
        "        )\n",
        "        self.residual = nn.Linear(dim,enc_dim)\n",
        "        self.norm2 = nn.LayerNorm(enc_dim)\n",
        "    \n",
        "    def forward(self,x,mask):\n",
        "        z = self.attention(x,mask)\n",
        "        if self.dim != self.enc_dim:\n",
        "            x = self.residual(x)\n",
        "        z = self.norm1(x+z)\n",
        "        z2 = self.linear(z)\n",
        "        return self.norm2(z+z2)\n",
        "     \n",
        "    \n",
        "class decoder(nn.Module):\n",
        "    def __init__(self,dim,input_size,vocab_size,dropout=.1):\n",
        "        super().__init__()\n",
        "        self.attention = multi_attention(input_size,dim,dropout)\n",
        "        self.norm1 = nn.LayerNorm(dim)\n",
        "        self.EDattention = encdec_attention(dim,dropout)\n",
        "        self.norm2 = nn.LayerNorm(dim)\n",
        "        self.linear = nn.Sequential(\n",
        "            nn.Linear(dim,dim),\n",
        "            nn.ReLU()\n",
        "        )\n",
        "        self.norm3 = nn.LayerNorm(dim)\n",
        "    \n",
        "    def forward(self,x,k,v,src,trg):\n",
        "        z = self.attention(x,trg)\n",
        "        z = self.norm1(z+x)\n",
        "        z2 = self.EDattention(z,k,v,src)\n",
        "        z2 = self.norm2(z2+z)\n",
        "        z3 = self.linear(z2)\n",
        "        return self.norm3(z3+z2)\n",
        "    \n",
        "class transformer(nn.Module):\n",
        "    def __init__(self,dim,encoder_dim,enc_vocab_size,dec_vocab_size,input_size):\n",
        "        super().__init__()\n",
        "        self.embedding1 = nn.Embedding(enc_vocab_size,dim)\n",
        "        self.embedding2 = nn.Embedding(dec_vocab_size,encoder_dim)\n",
        "        \n",
        "        self.pe1 = PositionalEncoder(dim,enmax)\n",
        "        self.pe2 = PositionalEncoder(encoder_dim,frmax)\n",
        "        self.encoders = []\n",
        "    \n",
        "        self.encoders.append(encoder(dim,encoder_dim,enc_vocab_size))   ### FEEL FREE TO ADD OR REMOVE ENCODERS\n",
        "        self.encoders = nn.ModuleList(self.encoders)\n",
        "        \n",
        "        self.decoders = []\n",
        "        self.decoders.append(decoder(encoder_dim,encoder_dim,dec_vocab_size)) ### FEEL FREE TO ADD OR REMOVE ENCODERS\n",
        "        self.decoders = nn.ModuleList(self.decoders)\n",
        "        \n",
        "        self.final = nn.Sequential(\n",
        "            nn.Linear(encoder_dim,dec_vocab_size),\n",
        "            nn.LogSoftmax(2)\n",
        "        )\n",
        "        \n",
        "        self.k = nn.Linear(encoder_dim,encoder_dim)\n",
        "        self.v = nn.Linear(encoder_dim,encoder_dim)\n",
        "        \n",
        "    def create_dec_KV(self,z):\n",
        "        K = self.k(z)\n",
        "        V = self.v(z)\n",
        "        return K,V\n",
        "    \n",
        "    def encode(self,x,src):\n",
        "        x = self.embedding1(x)\n",
        "        x = self.pe1(x)\n",
        "        for layer in self.encoders:\n",
        "            x = layer(x,src)\n",
        "        return x\n",
        "    \n",
        "    def decode(self,y,K,V,src,trg):\n",
        "        y = self.embedding2(y)\n",
        "        y = self.pe2(y)\n",
        "        for layer in self.decoders:\n",
        "            y = layer(y,K,V,src,trg)\n",
        "        return self.final(y)\n",
        "        \n",
        "    \n",
        "    def forward(self,x,y,src,trg):\n",
        "        x = self.encode(x,src)\n",
        "        K,V = self.create_dec_KV(x)\n",
        "        y = self.decode(y,K,V,src,trg)\n",
        "        \n",
        "        return y\n",
        "\n"
      ],
      "execution_count": 0,
      "outputs": []
    },
    {
      "cell_type": "code",
      "metadata": {
        "id": "D9jaMau8MhIV",
        "colab_type": "code",
        "colab": {}
      },
      "source": [
        "model = transformer(enmax,enmax,len(envocab),len(frvocab),frmax)\n",
        "model = model.to(device)"
      ],
      "execution_count": 0,
      "outputs": []
    },
    {
      "cell_type": "code",
      "metadata": {
        "id": "BDHx31_uMhIc",
        "colab_type": "code",
        "colab": {}
      },
      "source": [
        "optimizer = optim.Adam(model.parameters(), lr=0.01,weight_decay=.00001)\n",
        "scheduler = torch.optim.lr_scheduler.ReduceLROnPlateau(optimizer,factor=.1,patience=10,threshold=1,min_lr=.0001)\n",
        "criterion = nn.NLLLoss()"
      ],
      "execution_count": 0,
      "outputs": []
    },
    {
      "cell_type": "code",
      "metadata": {
        "scrolled": false,
        "id": "YIHeaIWYMhIi",
        "colab_type": "code",
        "colab": {}
      },
      "source": [
        "for i in range(50):\n",
        "    model.train()\n",
        "    total_loss = 0\n",
        "    for j,(context, target) in enumerate(trainloader):\n",
        "        trg_input = target[:,:-1]\n",
        "        outmask = target[:,1:]!= fr_to_ix['<pad>']\n",
        "        targets = target[:,1:].contiguous().view(-1)\n",
        "        src,trg = mask(context,trg_input)\n",
        "        output = model(context,trg_input,src,trg)\n",
        "        optimizer.zero_grad()\n",
        "        loss = criterion(output.view(output.shape[0]*output.shape[1],-1),targets)\n",
        "        loss.backward()\n",
        "        total_loss += loss.item()\n",
        "        optimizer.step()\n",
        "    scheduler.step(total_loss)\n",
        "    print('Epoch:', i+1,' loss:', total_loss)\n",
        "    model.eval()\n",
        "    scores = []\n",
        "    preds = []\n",
        "    targetlist = []\n",
        "    for j,(context, target) in enumerate(valloader):\n",
        "            trg_input = target[:,:-1]\n",
        "            targets = target.contiguous().view(-1)\n",
        "            targetlist.append(targets)\n",
        "            src,trg = mask(context,trg_input)\n",
        "            output = model(context,trg_input,src,trg)\n",
        "            pred = F.softmax(output,2).argmax(2)\n",
        "            preds.append(pred)\n",
        "            break\n",
        "    compareoutput(preds,targetlist,loc=0)"
      ],
      "execution_count": 0,
      "outputs": []
    },
    {
      "cell_type": "markdown",
      "metadata": {
        "id": "pOJXc0RrMhIo",
        "colab_type": "text"
      },
      "source": [
        "# Test your  multi-head transformer"
      ]
    },
    {
      "cell_type": "code",
      "metadata": {
        "id": "0a9sWHzEMhIp",
        "colab_type": "code",
        "colab": {}
      },
      "source": [
        "sentence = 'how are you'\n",
        "translate(sentence)"
      ],
      "execution_count": 0,
      "outputs": []
    },
    {
      "cell_type": "markdown",
      "metadata": {
        "id": "SBk9jCIaMhIu",
        "colab_type": "text"
      },
      "source": [
        "# QUESTION\n",
        "\n",
        "#### 1) Was the runtime of your multi-head transformer noticably longer than the single head one? What about the speed the loss decreased? If you had the time and resources to train it to a good spot, how did the translation quality compare to the single-headed transformer?\n",
        "\n",
        "#### 2)Try adding encoders and decoders to one of your transformers. Does having the extra layers improve performance? How does it affect runtime?"
      ]
    },
    {
      "cell_type": "code",
      "metadata": {
        "id": "ymrH2jVeMhIv",
        "colab_type": "code",
        "colab": {}
      },
      "source": [
        ""
      ],
      "execution_count": 0,
      "outputs": []
    }
  ]
}